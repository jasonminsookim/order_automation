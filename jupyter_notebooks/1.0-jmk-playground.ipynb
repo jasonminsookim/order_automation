{
 "cells": [
  {
   "cell_type": "markdown",
   "metadata": {
    "collapsed": true,
    "pycharm": {
     "is_executing": false,
     "name": "#%% md\n"
    }
   },
   "source": [
    "# 1. Import Modules and Data"
   ]
  },
  {
   "cell_type": "code",
   "execution_count": 1,
   "metadata": {
    "ExecuteTime": {
     "end_time": "2020-05-02T18:48:30.342703Z",
     "start_time": "2020-05-02T18:48:29.049278Z"
    },
    "pycharm": {
     "name": "#%%\n"
    }
   },
   "outputs": [],
   "source": [
    "# Auto-reload custom modules\n",
    "%load_ext autoreload\n",
    "%autoreload 2\n",
    "import sys\n",
    "import os\n",
    "\n",
    "# adds modules to path so that it can be imported using\n",
    "nb_dir = os.path.split(os.getcwd())[0]\n",
    "if nb_dir not in sys.path:\n",
    "    sys.path.append(nb_dir)\n",
    "\n",
    "import configparser\n",
    "import pandas as pd\n",
    "from tqdm.notebook import tqdm\n",
    "\n",
    "# Import custom modules\n",
    "from src import process_jsons\n",
    "from src import amzn\n",
    "from src import chrome_driver\n"
   ]
  },
  {
   "cell_type": "markdown",
   "metadata": {
    "pycharm": {
     "is_executing": false,
     "name": "#%% md\n"
    }
   },
   "source": [
    "## 1.1 Setup the config parser."
   ]
  },
  {
   "cell_type": "code",
   "execution_count": 2,
   "metadata": {
    "ExecuteTime": {
     "end_time": "2020-05-02T18:48:31.837936Z",
     "start_time": "2020-05-02T18:48:31.794627Z"
    },
    "pycharm": {
     "name": "#%%\n"
    }
   },
   "outputs": [
    {
     "data": {
      "text/plain": [
       "['../config.ini']"
      ]
     },
     "execution_count": 2,
     "metadata": {},
     "output_type": "execute_result"
    }
   ],
   "source": [
    "config = configparser.ConfigParser()\n",
    "config.read('../config.ini')\n"
   ]
  },
  {
   "cell_type": "markdown",
   "metadata": {
    "ExecuteTime": {
     "end_time": "2019-12-18T14:41:44.820558Z",
     "start_time": "2019-12-18T14:41:44.811231Z"
    },
    "pycharm": {
     "is_executing": false,
     "name": "#%% md\n"
    }
   },
   "source": [
    "## 1.2 Import jsons and extract them to a list of order dictionaries.\n",
    "\n",
    "- Each json file is comprised of one order. "
   ]
  },
  {
   "cell_type": "code",
   "execution_count": 52,
   "metadata": {
    "ExecuteTime": {
     "end_time": "2020-05-02T19:35:18.808271Z",
     "start_time": "2020-05-02T19:35:18.768086Z"
    },
    "pycharm": {
     "name": "#%%\n"
    }
   },
   "outputs": [],
   "source": [
    "path_to_json = '../data/sample_json_orders' \n",
    "orders_dict_list = process_jsons.extract_jsons_from_directory(path_to_json)"
   ]
  },
  {
   "cell_type": "code",
   "execution_count": 60,
   "metadata": {
    "ExecuteTime": {
     "end_time": "2020-05-02T19:36:54.901400Z",
     "start_time": "2020-05-02T19:36:54.869189Z"
    },
    "pycharm": {
     "name": "#%%\n"
    }
   },
   "outputs": [],
   "source": [
    "# Filters the orders by a list of countries\n",
    "\n",
    "country_filter_list = ['US']\n",
    "filtered_orders = process_jsons.filter_json(orders_dict_list, country_filter_list)"
   ]
  },
  {
   "cell_type": "markdown",
   "metadata": {},
   "source": [
    "# 3. Running the Script"
   ]
  },
  {
   "cell_type": "code",
   "execution_count": 61,
   "metadata": {
    "ExecuteTime": {
     "end_time": "2020-05-02T19:37:07.237769Z",
     "start_time": "2020-05-02T19:36:55.348679Z"
    },
    "pycharm": {
     "name": "#%%\n"
    }
   },
   "outputs": [],
   "source": [
    "driver = chrome_driver.setup()\n",
    "amzn.login(driver, config['amazon_login']['email'], config['amazon_login']['password'])\n",
    "#amzn.clear_cart(driver)"
   ]
  },
  {
   "cell_type": "code",
   "execution_count": 66,
   "metadata": {
    "ExecuteTime": {
     "end_time": "2020-05-02T19:46:08.108691Z",
     "start_time": "2020-05-02T19:43:45.166081Z"
    },
    "pycharm": {
     "name": "#%%\n"
    }
   },
   "outputs": [
    {
     "data": {
      "application/vnd.jupyter.widget-view+json": {
       "model_id": "ea34090516c7483c81cd132a0de00b45",
       "version_major": 2,
       "version_minor": 0
      },
      "text/plain": [
       "HBox(children=(FloatProgress(value=0.0, max=4.0), HTML(value='')))"
      ]
     },
     "metadata": {},
     "output_type": "display_data"
    },
    {
     "name": "stdout",
     "output_type": "stream",
     "text": [
      "{'product_id': 'B07CMKX3C7', 'quantity': 2, 'seller_selection_criteria': {'buy_box': True}, 'variants': []}\n",
      "{'product_id': 'B07YTX2VLP', 'quantity': 1, 'seller_selection_criteria': {'buy_box': True}, 'variants': []}\n",
      "{'product_id': 'B07K39FRSL', 'quantity': 1, 'seller_selection_criteria': {'buy_box': True}, 'variants': []}\n",
      "One-time purchase:\n",
      "{'product_id': 'B000XY9LT4', 'quantity': 2, 'seller_selection_criteria': {'buy_box': True}, 'variants': []}\n",
      "One-time purchase:\n",
      "{'product_id': 'B0013L3XMM', 'quantity': 2, 'seller_selection_criteria': {'buy_box': True}, 'variants': []}\n",
      "Buy new:\n",
      "{'product_id': 'B079QG5CDZ', 'quantity': 1, 'seller_selection_criteria': {'buy_box': True}, 'variants': []}\n",
      "\n"
     ]
    }
   ],
   "source": [
    "# Creates a dataframe to track how each order interacts with amazon. \n",
    "order_results_dict_list = list()\n",
    "\n",
    "for i in tqdm(range(len(filtered_orders))):\n",
    "    \n",
    "    order_results_dict_list = amzn.add_items_to_cart(filtered_orders, driver, i, order_results_dict_list)\n",
    "    order_results_df = pd.DataFrame(order_results_dict_list)\n",
    "    "
   ]
  },
  {
   "cell_type": "code",
   "execution_count": 67,
   "metadata": {
    "ExecuteTime": {
     "end_time": "2020-05-02T19:46:08.230305Z",
     "start_time": "2020-05-02T19:46:08.116237Z"
    },
    "pycharm": {
     "name": "#%%\n"
    }
   },
   "outputs": [
    {
     "data": {
      "text/html": [
       "<div>\n",
       "<style scoped>\n",
       "    .dataframe tbody tr th:only-of-type {\n",
       "        vertical-align: middle;\n",
       "    }\n",
       "\n",
       "    .dataframe tbody tr th {\n",
       "        vertical-align: top;\n",
       "    }\n",
       "\n",
       "    .dataframe thead th {\n",
       "        text-align: right;\n",
       "    }\n",
       "</style>\n",
       "<table border=\"1\" class=\"dataframe\">\n",
       "  <thead>\n",
       "    <tr style=\"text-align: right;\">\n",
       "      <th></th>\n",
       "      <th>order_index</th>\n",
       "      <th>json_dict</th>\n",
       "      <th>product_id</th>\n",
       "      <th>product_quant</th>\n",
       "      <th>num_products</th>\n",
       "      <th>href_link</th>\n",
       "      <th>went_to_product_page</th>\n",
       "      <th>product_id_matches</th>\n",
       "      <th>discovery_method</th>\n",
       "      <th>num_results</th>\n",
       "      <th>select_quantity_exists</th>\n",
       "      <th>select_quantity_num_avail</th>\n",
       "      <th>add_to_cart_exsts</th>\n",
       "      <th>added_to_cart</th>\n",
       "    </tr>\n",
       "  </thead>\n",
       "  <tbody>\n",
       "    <tr>\n",
       "      <th>0</th>\n",
       "      <td>0</td>\n",
       "      <td>{'idempotency_key': '22ds4iQ423ZlvhR', 'shippi...</td>\n",
       "      <td>B07CMKX3C7</td>\n",
       "      <td>2</td>\n",
       "      <td>1</td>\n",
       "      <td>https://www.amazon.com/Tempur-Pedic-Adaptable-...</td>\n",
       "      <td>True</td>\n",
       "      <td>True</td>\n",
       "      <td>span</td>\n",
       "      <td>1</td>\n",
       "      <td>True</td>\n",
       "      <td>True</td>\n",
       "      <td>True</td>\n",
       "      <td>True</td>\n",
       "    </tr>\n",
       "    <tr>\n",
       "      <th>1</th>\n",
       "      <td>1</td>\n",
       "      <td>{'idempotency_key': 'nttfkg3oiSJ7Yjd', 'shippi...</td>\n",
       "      <td>B07YTX2VLP</td>\n",
       "      <td>1</td>\n",
       "      <td>1</td>\n",
       "      <td>https://www.amazon.com/Christmas-Goodies-Draws...</td>\n",
       "      <td>True</td>\n",
       "      <td>True</td>\n",
       "      <td>span</td>\n",
       "      <td>1</td>\n",
       "      <td>False</td>\n",
       "      <td>None</td>\n",
       "      <td>True</td>\n",
       "      <td>False</td>\n",
       "    </tr>\n",
       "    <tr>\n",
       "      <th>2</th>\n",
       "      <td>2</td>\n",
       "      <td>{'idempotency_key': 'Zr2zqnNJCM9UrT', 'shippin...</td>\n",
       "      <td>B07K39FRSL</td>\n",
       "      <td>1</td>\n",
       "      <td>1</td>\n",
       "      <td>https://www.amazon.com/Apple-Watch-GPS-38mm-Sp...</td>\n",
       "      <td>True</td>\n",
       "      <td>True</td>\n",
       "      <td>span</td>\n",
       "      <td>1</td>\n",
       "      <td>False</td>\n",
       "      <td>None</td>\n",
       "      <td>False</td>\n",
       "      <td>False</td>\n",
       "    </tr>\n",
       "    <tr>\n",
       "      <th>3</th>\n",
       "      <td>3</td>\n",
       "      <td>{'idempotency_key': 'JhzFp36Qilg59I3', 'shippi...</td>\n",
       "      <td>B000XY9LT4</td>\n",
       "      <td>2</td>\n",
       "      <td>3</td>\n",
       "      <td>https://www.amazon.com/Eucerin-Intensive-Repai...</td>\n",
       "      <td>True</td>\n",
       "      <td>True</td>\n",
       "      <td>div</td>\n",
       "      <td>1</td>\n",
       "      <td>True</td>\n",
       "      <td>True</td>\n",
       "      <td>True</td>\n",
       "      <td>True</td>\n",
       "    </tr>\n",
       "    <tr>\n",
       "      <th>4</th>\n",
       "      <td>3</td>\n",
       "      <td>{'idempotency_key': 'JhzFp36Qilg59I3', 'shippi...</td>\n",
       "      <td>B0013L3XMM</td>\n",
       "      <td>2</td>\n",
       "      <td>3</td>\n",
       "      <td>https://www.amazon.com/Eucerin-Sensitive-Redne...</td>\n",
       "      <td>True</td>\n",
       "      <td>True</td>\n",
       "      <td>span</td>\n",
       "      <td>1</td>\n",
       "      <td>True</td>\n",
       "      <td>True</td>\n",
       "      <td>True</td>\n",
       "      <td>True</td>\n",
       "    </tr>\n",
       "    <tr>\n",
       "      <th>5</th>\n",
       "      <td>3</td>\n",
       "      <td>{'idempotency_key': 'JhzFp36Qilg59I3', 'shippi...</td>\n",
       "      <td>B079QG5CDZ</td>\n",
       "      <td>1</td>\n",
       "      <td>3</td>\n",
       "      <td>https://www.amazon.com/URBAN-ARMOR-GEAR-5-8-In...</td>\n",
       "      <td>True</td>\n",
       "      <td>True</td>\n",
       "      <td>span</td>\n",
       "      <td>1</td>\n",
       "      <td>True</td>\n",
       "      <td>True</td>\n",
       "      <td>True</td>\n",
       "      <td>True</td>\n",
       "    </tr>\n",
       "  </tbody>\n",
       "</table>\n",
       "</div>"
      ],
      "text/plain": [
       "   order_index                                          json_dict  product_id  \\\n",
       "0            0  {'idempotency_key': '22ds4iQ423ZlvhR', 'shippi...  B07CMKX3C7   \n",
       "1            1  {'idempotency_key': 'nttfkg3oiSJ7Yjd', 'shippi...  B07YTX2VLP   \n",
       "2            2  {'idempotency_key': 'Zr2zqnNJCM9UrT', 'shippin...  B07K39FRSL   \n",
       "3            3  {'idempotency_key': 'JhzFp36Qilg59I3', 'shippi...  B000XY9LT4   \n",
       "4            3  {'idempotency_key': 'JhzFp36Qilg59I3', 'shippi...  B0013L3XMM   \n",
       "5            3  {'idempotency_key': 'JhzFp36Qilg59I3', 'shippi...  B079QG5CDZ   \n",
       "\n",
       "   product_quant  num_products  \\\n",
       "0              2             1   \n",
       "1              1             1   \n",
       "2              1             1   \n",
       "3              2             3   \n",
       "4              2             3   \n",
       "5              1             3   \n",
       "\n",
       "                                           href_link  went_to_product_page  \\\n",
       "0  https://www.amazon.com/Tempur-Pedic-Adaptable-...                  True   \n",
       "1  https://www.amazon.com/Christmas-Goodies-Draws...                  True   \n",
       "2  https://www.amazon.com/Apple-Watch-GPS-38mm-Sp...                  True   \n",
       "3  https://www.amazon.com/Eucerin-Intensive-Repai...                  True   \n",
       "4  https://www.amazon.com/Eucerin-Sensitive-Redne...                  True   \n",
       "5  https://www.amazon.com/URBAN-ARMOR-GEAR-5-8-In...                  True   \n",
       "\n",
       "   product_id_matches discovery_method  num_results  select_quantity_exists  \\\n",
       "0                True             span            1                    True   \n",
       "1                True             span            1                   False   \n",
       "2                True             span            1                   False   \n",
       "3                True              div            1                    True   \n",
       "4                True             span            1                    True   \n",
       "5                True             span            1                    True   \n",
       "\n",
       "  select_quantity_num_avail  add_to_cart_exsts  added_to_cart  \n",
       "0                      True               True           True  \n",
       "1                      None               True          False  \n",
       "2                      None              False          False  \n",
       "3                      True               True           True  \n",
       "4                      True               True           True  \n",
       "5                      True               True           True  "
      ]
     },
     "execution_count": 67,
     "metadata": {},
     "output_type": "execute_result"
    }
   ],
   "source": [
    "order_results_df = pd.DataFrame(order_results_dict_list)\n",
    "order_results_df"
   ]
  },
  {
   "cell_type": "code",
   "execution_count": 65,
   "metadata": {
    "ExecuteTime": {
     "end_time": "2020-05-02T19:43:45.162075Z",
     "start_time": "2020-05-02T19:43:21.611353Z"
    },
    "pycharm": {
     "name": "#%%\n"
    }
   },
   "outputs": [
    {
     "name": "stdout",
     "output_type": "stream",
     "text": [
      "Starting to clear cart ...\n",
      "Checkout cart has been cleared of 8 items.\n"
     ]
    }
   ],
   "source": [
    "amzn.clear_cart(driver)"
   ]
  },
  {
   "cell_type": "code",
   "execution_count": 32,
   "metadata": {
    "pycharm": {
     "name": "#%%\n"
    }
   },
   "outputs": [
    {
     "data": {
      "text/plain": [
       "0"
      ]
     },
     "execution_count": 32,
     "metadata": {},
     "output_type": "execute_result"
    }
   ],
   "source": [
    "amzn.get_num_cart_items(driver)\n"
   ]
  },
  {
   "cell_type": "code",
   "execution_count": 68,
   "metadata": {
    "ExecuteTime": {
     "end_time": "2020-05-02T19:46:08.310798Z",
     "start_time": "2020-05-02T19:46:08.236968Z"
    }
   },
   "outputs": [
    {
     "data": {
      "text/html": [
       "<div>\n",
       "<style scoped>\n",
       "    .dataframe tbody tr th:only-of-type {\n",
       "        vertical-align: middle;\n",
       "    }\n",
       "\n",
       "    .dataframe tbody tr th {\n",
       "        vertical-align: top;\n",
       "    }\n",
       "\n",
       "    .dataframe thead th {\n",
       "        text-align: right;\n",
       "    }\n",
       "</style>\n",
       "<table border=\"1\" class=\"dataframe\">\n",
       "  <thead>\n",
       "    <tr style=\"text-align: right;\">\n",
       "      <th></th>\n",
       "      <th>idempotency_key</th>\n",
       "      <th>shipping_address</th>\n",
       "      <th>client_notes</th>\n",
       "      <th>payment_method</th>\n",
       "      <th>retailer</th>\n",
       "      <th>affiliate_info</th>\n",
       "      <th>products</th>\n",
       "      <th>shipping_method</th>\n",
       "      <th>billing_address</th>\n",
       "      <th>retailer_credentials</th>\n",
       "      <th>webhooks</th>\n",
       "      <th>max_price</th>\n",
       "      <th>client_token</th>\n",
       "    </tr>\n",
       "  </thead>\n",
       "  <tbody>\n",
       "    <tr>\n",
       "      <th>0</th>\n",
       "      <td>22ds4iQ423ZlvhR</td>\n",
       "      <td>{'first_name': 'Ohshop', 'last_name': 'Amazon ...</td>\n",
       "      <td>{'order_code': 'AFMAJO', 'retailer': 'amazon'}</td>\n",
       "      <td>{'name_on_card': 'Jason Kim', 'expiration_year...</td>\n",
       "      <td>amazon</td>\n",
       "      <td>{'tag': 'ohmyzip19-20'}</td>\n",
       "      <td>[{'product_id': 'B07CMKX3C7', 'quantity': 2, '...</td>\n",
       "      <td>cheapest</td>\n",
       "      <td>{'first_name': 'Jason M', 'last_name': 'Kim', ...</td>\n",
       "      <td>{'email': 'join@ohmyzip.com'}</td>\n",
       "      <td>{'order_placed': 'https://www.ohmyzip.com/zinc...</td>\n",
       "      <td>999900</td>\n",
       "      <td>08302263B276E420C6F32249</td>\n",
       "    </tr>\n",
       "    <tr>\n",
       "      <th>1</th>\n",
       "      <td>nttfkg3oiSJ7Yjd</td>\n",
       "      <td>{'first_name': 'Ohshop', 'last_name': 'Amazon ...</td>\n",
       "      <td>{'order_code': 'ASAXDU', 'retailer': 'amazon'}</td>\n",
       "      <td>{'name_on_card': 'Jason Kim', 'expiration_year...</td>\n",
       "      <td>amazon</td>\n",
       "      <td>{'tag': 'ohmyzip19-20'}</td>\n",
       "      <td>[{'product_id': 'B07YTX2VLP', 'quantity': 1, '...</td>\n",
       "      <td>cheapest</td>\n",
       "      <td>{'first_name': 'Jason M', 'last_name': 'Kim', ...</td>\n",
       "      <td>{'email': 'join@ohmyzip.com'}</td>\n",
       "      <td>{'order_placed': 'https://www.ohmyzip.com/zinc...</td>\n",
       "      <td>999900</td>\n",
       "      <td>08302263B276E420C6F32249</td>\n",
       "    </tr>\n",
       "    <tr>\n",
       "      <th>2</th>\n",
       "      <td>Zr2zqnNJCM9UrT</td>\n",
       "      <td>{'first_name': 'Ohshop', 'last_name': 'Amazon ...</td>\n",
       "      <td>{'order_code': 'AZ62GS', 'retailer': 'amazon'}</td>\n",
       "      <td>{'name_on_card': 'Jason Kim', 'expiration_year...</td>\n",
       "      <td>amazon</td>\n",
       "      <td>{'tag': 'ohmyzip19-20'}</td>\n",
       "      <td>[{'product_id': 'B07K39FRSL', 'quantity': 1, '...</td>\n",
       "      <td>cheapest</td>\n",
       "      <td>{'first_name': 'Jason M', 'last_name': 'Kim', ...</td>\n",
       "      <td>{'email': 'join@ohmyzip.com'}</td>\n",
       "      <td>{'order_placed': 'https://www.ohmyzip.com/zinc...</td>\n",
       "      <td>999900</td>\n",
       "      <td>08302263B276E420C6F32249</td>\n",
       "    </tr>\n",
       "    <tr>\n",
       "      <th>3</th>\n",
       "      <td>JhzFp36Qilg59I3</td>\n",
       "      <td>{'first_name': 'Ohshop', 'last_name': 'Amazon ...</td>\n",
       "      <td>{'order_code': 'A9CR3X', 'retailer': 'amazon'}</td>\n",
       "      <td>{'name_on_card': 'Jason Kim', 'expiration_year...</td>\n",
       "      <td>amazon</td>\n",
       "      <td>{'tag': 'ohmyzip19-20'}</td>\n",
       "      <td>[{'product_id': 'B000XY9LT4', 'quantity': 2, '...</td>\n",
       "      <td>cheapest</td>\n",
       "      <td>{'first_name': 'Jason M', 'last_name': 'Kim', ...</td>\n",
       "      <td>{'email': 'join@ohmyzip.com'}</td>\n",
       "      <td>{'order_placed': 'https://www.ohmyzip.com/zinc...</td>\n",
       "      <td>999900</td>\n",
       "      <td>08302263B276E420C6F32249</td>\n",
       "    </tr>\n",
       "  </tbody>\n",
       "</table>\n",
       "</div>"
      ],
      "text/plain": [
       "   idempotency_key                                   shipping_address  \\\n",
       "0  22ds4iQ423ZlvhR  {'first_name': 'Ohshop', 'last_name': 'Amazon ...   \n",
       "1  nttfkg3oiSJ7Yjd  {'first_name': 'Ohshop', 'last_name': 'Amazon ...   \n",
       "2   Zr2zqnNJCM9UrT  {'first_name': 'Ohshop', 'last_name': 'Amazon ...   \n",
       "3  JhzFp36Qilg59I3  {'first_name': 'Ohshop', 'last_name': 'Amazon ...   \n",
       "\n",
       "                                     client_notes  \\\n",
       "0  {'order_code': 'AFMAJO', 'retailer': 'amazon'}   \n",
       "1  {'order_code': 'ASAXDU', 'retailer': 'amazon'}   \n",
       "2  {'order_code': 'AZ62GS', 'retailer': 'amazon'}   \n",
       "3  {'order_code': 'A9CR3X', 'retailer': 'amazon'}   \n",
       "\n",
       "                                      payment_method retailer  \\\n",
       "0  {'name_on_card': 'Jason Kim', 'expiration_year...   amazon   \n",
       "1  {'name_on_card': 'Jason Kim', 'expiration_year...   amazon   \n",
       "2  {'name_on_card': 'Jason Kim', 'expiration_year...   amazon   \n",
       "3  {'name_on_card': 'Jason Kim', 'expiration_year...   amazon   \n",
       "\n",
       "            affiliate_info                                           products  \\\n",
       "0  {'tag': 'ohmyzip19-20'}  [{'product_id': 'B07CMKX3C7', 'quantity': 2, '...   \n",
       "1  {'tag': 'ohmyzip19-20'}  [{'product_id': 'B07YTX2VLP', 'quantity': 1, '...   \n",
       "2  {'tag': 'ohmyzip19-20'}  [{'product_id': 'B07K39FRSL', 'quantity': 1, '...   \n",
       "3  {'tag': 'ohmyzip19-20'}  [{'product_id': 'B000XY9LT4', 'quantity': 2, '...   \n",
       "\n",
       "  shipping_method                                    billing_address  \\\n",
       "0        cheapest  {'first_name': 'Jason M', 'last_name': 'Kim', ...   \n",
       "1        cheapest  {'first_name': 'Jason M', 'last_name': 'Kim', ...   \n",
       "2        cheapest  {'first_name': 'Jason M', 'last_name': 'Kim', ...   \n",
       "3        cheapest  {'first_name': 'Jason M', 'last_name': 'Kim', ...   \n",
       "\n",
       "            retailer_credentials  \\\n",
       "0  {'email': 'join@ohmyzip.com'}   \n",
       "1  {'email': 'join@ohmyzip.com'}   \n",
       "2  {'email': 'join@ohmyzip.com'}   \n",
       "3  {'email': 'join@ohmyzip.com'}   \n",
       "\n",
       "                                            webhooks  max_price  \\\n",
       "0  {'order_placed': 'https://www.ohmyzip.com/zinc...     999900   \n",
       "1  {'order_placed': 'https://www.ohmyzip.com/zinc...     999900   \n",
       "2  {'order_placed': 'https://www.ohmyzip.com/zinc...     999900   \n",
       "3  {'order_placed': 'https://www.ohmyzip.com/zinc...     999900   \n",
       "\n",
       "               client_token  \n",
       "0  08302263B276E420C6F32249  \n",
       "1  08302263B276E420C6F32249  \n",
       "2  08302263B276E420C6F32249  \n",
       "3  08302263B276E420C6F32249  "
      ]
     },
     "execution_count": 68,
     "metadata": {},
     "output_type": "execute_result"
    }
   ],
   "source": [
    "pd.DataFrame(filtered_orders)"
   ]
  }
 ],
 "metadata": {
  "kernelspec": {
   "display_name": "Python 3",
   "language": "python",
   "name": "python3"
  },
  "language_info": {
   "codemirror_mode": {
    "name": "ipython",
    "version": 3
   },
   "file_extension": ".py",
   "mimetype": "text/x-python",
   "name": "python",
   "nbconvert_exporter": "python",
   "pygments_lexer": "ipython3",
   "version": "3.7.5"
  }
 },
 "nbformat": 4,
 "nbformat_minor": 1
}
