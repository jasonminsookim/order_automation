{
 "cells": [
  {
   "cell_type": "markdown",
   "metadata": {
    "collapsed": true,
    "pycharm": {
     "is_executing": false,
     "name": "#%% md\n"
    }
   },
   "source": [
    "# 1. Import Modules and Data"
   ]
  },
  {
   "cell_type": "code",
   "execution_count": 16,
   "metadata": {
    "ExecuteTime": {
     "end_time": "2020-05-02T21:25:47.216775Z",
     "start_time": "2020-05-02T21:25:47.114681Z"
    },
    "pycharm": {
     "name": "#%%\n"
    }
   },
   "outputs": [
    {
     "name": "stdout",
     "output_type": "stream",
     "text": [
      "The autoreload extension is already loaded. To reload it, use:\n",
      "  %reload_ext autoreload\n"
     ]
    }
   ],
   "source": [
    "# Auto-reload custom modules\n",
    "%load_ext autoreload\n",
    "%autoreload 2\n",
    "import sys\n",
    "import os\n",
    "\n",
    "# adds modules to path so that it can be imported using\n",
    "nb_dir = os.path.split(os.getcwd())[0]\n",
    "if nb_dir not in sys.path:\n",
    "    sys.path.append(nb_dir)\n",
    "\n",
    "import configparser\n",
    "import pandas as pd\n",
    "from tqdm.notebook import tqdm\n",
    "\n",
    "# Import custom modules\n",
    "from src import process_jsons\n",
    "from src import amzn\n",
    "from src import chrome_driver\n"
   ]
  },
  {
   "cell_type": "markdown",
   "metadata": {
    "pycharm": {
     "is_executing": false,
     "name": "#%% md\n"
    }
   },
   "source": [
    "## 1.1 Setup the config parser."
   ]
  },
  {
   "cell_type": "code",
   "execution_count": 17,
   "metadata": {
    "ExecuteTime": {
     "end_time": "2020-05-02T21:25:47.497720Z",
     "start_time": "2020-05-02T21:25:47.449065Z"
    },
    "pycharm": {
     "name": "#%%\n"
    }
   },
   "outputs": [
    {
     "data": {
      "text/plain": [
       "['../config.ini']"
      ]
     },
     "execution_count": 17,
     "metadata": {},
     "output_type": "execute_result"
    }
   ],
   "source": [
    "config = configparser.ConfigParser()\n",
    "config.read('../config.ini')\n"
   ]
  },
  {
   "cell_type": "markdown",
   "metadata": {
    "ExecuteTime": {
     "end_time": "2019-12-18T14:41:44.820558Z",
     "start_time": "2019-12-18T14:41:44.811231Z"
    },
    "pycharm": {
     "is_executing": false,
     "name": "#%% md\n"
    }
   },
   "source": [
    "## 1.2 Import jsons and extract them to a list of order dictionaries.\n",
    "\n",
    "- Each json file is comprised of one order. "
   ]
  },
  {
   "cell_type": "code",
   "execution_count": 18,
   "metadata": {
    "ExecuteTime": {
     "end_time": "2020-05-02T21:25:47.827009Z",
     "start_time": "2020-05-02T21:25:47.778289Z"
    },
    "pycharm": {
     "name": "#%%\n"
    }
   },
   "outputs": [],
   "source": [
    "path_to_json = '../data/sample_json_orders' \n",
    "orders_dict_list = process_jsons.extract_jsons_from_directory(path_to_json)"
   ]
  },
  {
   "cell_type": "code",
   "execution_count": 19,
   "metadata": {
    "ExecuteTime": {
     "end_time": "2020-05-02T21:25:47.978379Z",
     "start_time": "2020-05-02T21:25:47.930322Z"
    },
    "pycharm": {
     "name": "#%%\n"
    }
   },
   "outputs": [],
   "source": [
    "# Filters the orders by a list of countries\n",
    "\n",
    "country_filter_list = ['US']\n",
    "filtered_orders = process_jsons.filter_json(orders_dict_list, country_filter_list)"
   ]
  },
  {
   "cell_type": "markdown",
   "metadata": {},
   "source": [
    "# 3. Running the Script"
   ]
  },
  {
   "cell_type": "code",
   "execution_count": 27,
   "metadata": {
    "ExecuteTime": {
     "end_time": "2020-05-02T21:29:28.257856Z",
     "start_time": "2020-05-02T21:28:49.343988Z"
    },
    "pycharm": {
     "name": "#%%\n"
    }
   },
   "outputs": [
    {
     "name": "stdout",
     "output_type": "stream",
     "text": [
      "Starting to clear cart ...\n",
      "Checkout cart has been cleared of 7 items.\n"
     ]
    }
   ],
   "source": [
    "driver = chrome_driver.setup()\n",
    "amzn.login(driver, config['amazon_login']['email'], config['amazon_login']['password'])\n",
    "amzn.clear_cart(driver)"
   ]
  },
  {
   "cell_type": "code",
   "execution_count": 28,
   "metadata": {
    "ExecuteTime": {
     "end_time": "2020-05-02T21:30:49.538342Z",
     "start_time": "2020-05-02T21:29:28.266072Z"
    },
    "pycharm": {
     "name": "#%%\n"
    }
   },
   "outputs": [
    {
     "data": {
      "application/vnd.jupyter.widget-view+json": {
       "model_id": "0784f24dd84145fb992baea4dfc28b27",
       "version_major": 2,
       "version_minor": 0
      },
      "text/plain": [
       "HBox(children=(FloatProgress(value=0.0, max=4.0), HTML(value='')))"
      ]
     },
     "metadata": {},
     "output_type": "display_data"
    },
    {
     "name": "stdout",
     "output_type": "stream",
     "text": [
      "{'product_id': 'B07CMKX3C7', 'quantity': 2, 'seller_selection_criteria': {'buy_box': True}, 'variants': []}\n",
      "{'product_id': 'B07YTX2VLP', 'quantity': 1, 'seller_selection_criteria': {'buy_box': True}, 'variants': []}\n",
      "{'product_id': 'B07K39FRSL', 'quantity': 1, 'seller_selection_criteria': {'buy_box': True}, 'variants': []}\n",
      "{'product_id': 'B000XY9LT4', 'quantity': 2, 'seller_selection_criteria': {'buy_box': True}, 'variants': []}\n",
      "{'product_id': 'B0013L3XMM', 'quantity': 2, 'seller_selection_criteria': {'buy_box': True}, 'variants': []}\n",
      "{'product_id': 'B079QG5CDZ', 'quantity': 1, 'seller_selection_criteria': {'buy_box': True}, 'variants': []}\n",
      "\n"
     ]
    }
   ],
   "source": [
    "%timeit\n",
    "# Creates a dataframe to track how each order interacts with amazon. \n",
    "order_results_dict_list = list()\n",
    "\n",
    "for i in tqdm(range(len(filtered_orders))):\n",
    "    \n",
    "    order_results_dict_list = amzn.add_items_to_cart(filtered_orders, driver, i, order_results_dict_list)\n",
    "    order_results_df = pd.DataFrame(order_results_dict_list)\n",
    "    "
   ]
  },
  {
   "cell_type": "code",
   "execution_count": 23,
   "metadata": {
    "ExecuteTime": {
     "end_time": "2020-05-02T21:27:52.904098Z",
     "start_time": "2020-05-02T21:27:52.729183Z"
    },
    "pycharm": {
     "name": "#%%\n"
    }
   },
   "outputs": [
    {
     "data": {
      "text/html": [
       "<div>\n",
       "<style scoped>\n",
       "    .dataframe tbody tr th:only-of-type {\n",
       "        vertical-align: middle;\n",
       "    }\n",
       "\n",
       "    .dataframe tbody tr th {\n",
       "        vertical-align: top;\n",
       "    }\n",
       "\n",
       "    .dataframe thead th {\n",
       "        text-align: right;\n",
       "    }\n",
       "</style>\n",
       "<table border=\"1\" class=\"dataframe\">\n",
       "  <thead>\n",
       "    <tr style=\"text-align: right;\">\n",
       "      <th></th>\n",
       "      <th>order_index</th>\n",
       "      <th>json_dict</th>\n",
       "      <th>product_id</th>\n",
       "      <th>product_quant</th>\n",
       "      <th>num_products</th>\n",
       "      <th>href_link</th>\n",
       "      <th>went_to_product_page</th>\n",
       "      <th>product_id_matches</th>\n",
       "      <th>discovery_method</th>\n",
       "      <th>num_results</th>\n",
       "      <th>select_quantity_exists</th>\n",
       "      <th>select_quantity_num_avail</th>\n",
       "      <th>add_to_cart_exsts</th>\n",
       "      <th>added_to_cart</th>\n",
       "    </tr>\n",
       "  </thead>\n",
       "  <tbody>\n",
       "    <tr>\n",
       "      <th>0</th>\n",
       "      <td>0</td>\n",
       "      <td>{'idempotency_key': '22ds4iQ423ZlvhR', 'shippi...</td>\n",
       "      <td>B07CMKX3C7</td>\n",
       "      <td>2</td>\n",
       "      <td>1</td>\n",
       "      <td>https://www.amazon.com/Tempur-Pedic-Adaptable-...</td>\n",
       "      <td>True</td>\n",
       "      <td>True</td>\n",
       "      <td>span</td>\n",
       "      <td>1</td>\n",
       "      <td>True</td>\n",
       "      <td>True</td>\n",
       "      <td>True</td>\n",
       "      <td>True</td>\n",
       "    </tr>\n",
       "    <tr>\n",
       "      <th>1</th>\n",
       "      <td>1</td>\n",
       "      <td>{'idempotency_key': 'nttfkg3oiSJ7Yjd', 'shippi...</td>\n",
       "      <td>B07YTX2VLP</td>\n",
       "      <td>1</td>\n",
       "      <td>1</td>\n",
       "      <td>https://www.amazon.com/Christmas-Goodies-Draws...</td>\n",
       "      <td>True</td>\n",
       "      <td>True</td>\n",
       "      <td>span</td>\n",
       "      <td>1</td>\n",
       "      <td>False</td>\n",
       "      <td>None</td>\n",
       "      <td>True</td>\n",
       "      <td>False</td>\n",
       "    </tr>\n",
       "    <tr>\n",
       "      <th>2</th>\n",
       "      <td>2</td>\n",
       "      <td>{'idempotency_key': 'Zr2zqnNJCM9UrT', 'shippin...</td>\n",
       "      <td>B07K39FRSL</td>\n",
       "      <td>1</td>\n",
       "      <td>1</td>\n",
       "      <td>https://www.amazon.com/Apple-Watch-GPS-38mm-Sp...</td>\n",
       "      <td>True</td>\n",
       "      <td>True</td>\n",
       "      <td>span</td>\n",
       "      <td>1</td>\n",
       "      <td>False</td>\n",
       "      <td>None</td>\n",
       "      <td>False</td>\n",
       "      <td>False</td>\n",
       "    </tr>\n",
       "    <tr>\n",
       "      <th>3</th>\n",
       "      <td>3</td>\n",
       "      <td>{'idempotency_key': 'JhzFp36Qilg59I3', 'shippi...</td>\n",
       "      <td>B000XY9LT4</td>\n",
       "      <td>2</td>\n",
       "      <td>3</td>\n",
       "      <td>https://www.amazon.com/BEIERSDORF050393-Euceri...</td>\n",
       "      <td>True</td>\n",
       "      <td>True</td>\n",
       "      <td>div</td>\n",
       "      <td>1</td>\n",
       "      <td>True</td>\n",
       "      <td>True</td>\n",
       "      <td>True</td>\n",
       "      <td>True</td>\n",
       "    </tr>\n",
       "    <tr>\n",
       "      <th>4</th>\n",
       "      <td>3</td>\n",
       "      <td>{'idempotency_key': 'JhzFp36Qilg59I3', 'shippi...</td>\n",
       "      <td>B0013L3XMM</td>\n",
       "      <td>2</td>\n",
       "      <td>3</td>\n",
       "      <td>https://www.amazon.com/Eucerin-Sensitive-Redne...</td>\n",
       "      <td>True</td>\n",
       "      <td>True</td>\n",
       "      <td>span</td>\n",
       "      <td>1</td>\n",
       "      <td>True</td>\n",
       "      <td>True</td>\n",
       "      <td>True</td>\n",
       "      <td>True</td>\n",
       "    </tr>\n",
       "    <tr>\n",
       "      <th>5</th>\n",
       "      <td>3</td>\n",
       "      <td>{'idempotency_key': 'JhzFp36Qilg59I3', 'shippi...</td>\n",
       "      <td>B079QG5CDZ</td>\n",
       "      <td>1</td>\n",
       "      <td>3</td>\n",
       "      <td>https://www.amazon.com/URBAN-ARMOR-GEAR-5-8-In...</td>\n",
       "      <td>True</td>\n",
       "      <td>True</td>\n",
       "      <td>span</td>\n",
       "      <td>1</td>\n",
       "      <td>True</td>\n",
       "      <td>True</td>\n",
       "      <td>True</td>\n",
       "      <td>True</td>\n",
       "    </tr>\n",
       "  </tbody>\n",
       "</table>\n",
       "</div>"
      ],
      "text/plain": [
       "   order_index                                          json_dict  product_id  \\\n",
       "0            0  {'idempotency_key': '22ds4iQ423ZlvhR', 'shippi...  B07CMKX3C7   \n",
       "1            1  {'idempotency_key': 'nttfkg3oiSJ7Yjd', 'shippi...  B07YTX2VLP   \n",
       "2            2  {'idempotency_key': 'Zr2zqnNJCM9UrT', 'shippin...  B07K39FRSL   \n",
       "3            3  {'idempotency_key': 'JhzFp36Qilg59I3', 'shippi...  B000XY9LT4   \n",
       "4            3  {'idempotency_key': 'JhzFp36Qilg59I3', 'shippi...  B0013L3XMM   \n",
       "5            3  {'idempotency_key': 'JhzFp36Qilg59I3', 'shippi...  B079QG5CDZ   \n",
       "\n",
       "   product_quant  num_products  \\\n",
       "0              2             1   \n",
       "1              1             1   \n",
       "2              1             1   \n",
       "3              2             3   \n",
       "4              2             3   \n",
       "5              1             3   \n",
       "\n",
       "                                           href_link  went_to_product_page  \\\n",
       "0  https://www.amazon.com/Tempur-Pedic-Adaptable-...                  True   \n",
       "1  https://www.amazon.com/Christmas-Goodies-Draws...                  True   \n",
       "2  https://www.amazon.com/Apple-Watch-GPS-38mm-Sp...                  True   \n",
       "3  https://www.amazon.com/BEIERSDORF050393-Euceri...                  True   \n",
       "4  https://www.amazon.com/Eucerin-Sensitive-Redne...                  True   \n",
       "5  https://www.amazon.com/URBAN-ARMOR-GEAR-5-8-In...                  True   \n",
       "\n",
       "   product_id_matches discovery_method  num_results  select_quantity_exists  \\\n",
       "0                True             span            1                    True   \n",
       "1                True             span            1                   False   \n",
       "2                True             span            1                   False   \n",
       "3                True              div            1                    True   \n",
       "4                True             span            1                    True   \n",
       "5                True             span            1                    True   \n",
       "\n",
       "  select_quantity_num_avail  add_to_cart_exsts  added_to_cart  \n",
       "0                      True               True           True  \n",
       "1                      None               True          False  \n",
       "2                      None              False          False  \n",
       "3                      True               True           True  \n",
       "4                      True               True           True  \n",
       "5                      True               True           True  "
      ]
     },
     "execution_count": 23,
     "metadata": {},
     "output_type": "execute_result"
    }
   ],
   "source": [
    "order_results_df = pd.DataFrame(order_results_dict_list)\n",
    "order_results_df"
   ]
  },
  {
   "cell_type": "code",
   "execution_count": null,
   "metadata": {
    "ExecuteTime": {
     "end_time": "2020-05-02T21:26:04.185128Z",
     "start_time": "2020-05-02T21:25:49.410Z"
    },
    "pycharm": {
     "name": "#%%\n"
    }
   },
   "outputs": [],
   "source": [
    "amzn.clear_cart(driver)"
   ]
  },
  {
   "cell_type": "code",
   "execution_count": 32,
   "metadata": {
    "pycharm": {
     "name": "#%%\n"
    }
   },
   "outputs": [
    {
     "data": {
      "text/plain": [
       "0"
      ]
     },
     "execution_count": 32,
     "metadata": {},
     "output_type": "execute_result"
    }
   ],
   "source": [
    "amzn.get_num_cart_items(driver)\n"
   ]
  },
  {
   "cell_type": "code",
   "execution_count": 69,
   "metadata": {
    "ExecuteTime": {
     "end_time": "2020-05-02T19:49:33.725382Z",
     "start_time": "2020-05-02T19:49:33.678034Z"
    }
   },
   "outputs": [
    {
     "data": {
      "text/plain": [
       "[{'idempotency_key': '22ds4iQ423ZlvhR',\n",
       "  'shipping_address': {'first_name': 'Ohshop',\n",
       "   'last_name': 'Amazon Order',\n",
       "   'address_line1': '498 Centerpoint Blvd',\n",
       "   'address_line2': 'SOJEONGBO - KR0136926615',\n",
       "   'zip_code': '19720',\n",
       "   'city': 'New Castle',\n",
       "   'state': 'DE',\n",
       "   'country': 'US',\n",
       "   'phone_number': '3023228792'},\n",
       "  'client_notes': {'order_code': 'AFMAJO', 'retailer': 'amazon'},\n",
       "  'payment_method': {'name_on_card': 'Jason Kim',\n",
       "   'expiration_year': '2022',\n",
       "   'expiration_month': '4',\n",
       "   'use_gift': False},\n",
       "  'retailer': 'amazon',\n",
       "  'affiliate_info': {'tag': 'ohmyzip19-20'},\n",
       "  'products': [{'product_id': 'B07CMKX3C7',\n",
       "    'quantity': 2,\n",
       "    'seller_selection_criteria': {'buy_box': True},\n",
       "    'variants': []}],\n",
       "  'shipping_method': 'cheapest',\n",
       "  'billing_address': {'first_name': 'Jason M',\n",
       "   'last_name': 'Kim',\n",
       "   'address_line1': '21 WOODCREST CT',\n",
       "   'address_line2': 'NEWARK DE',\n",
       "   'zip_code': '19702',\n",
       "   'city': 'New castle',\n",
       "   'state': 'DE',\n",
       "   'country': 'US',\n",
       "   'phone_number': '7143807008'},\n",
       "  'retailer_credentials': {'email': 'join@ohmyzip.com'},\n",
       "  'webhooks': {'order_placed': 'https://www.ohmyzip.com/zinc/orderPlaced',\n",
       "   'order_failed': 'https://www.ohmyzip.com/zinc/orderFailed',\n",
       "   'tracking_obtained': 'https://www.ohmyzip.com/zinc/trackingObtained'},\n",
       "  'max_price': 999900,\n",
       "  'client_token': '08302263B276E420C6F32249'},\n",
       " {'idempotency_key': 'nttfkg3oiSJ7Yjd',\n",
       "  'shipping_address': {'first_name': 'Ohshop',\n",
       "   'last_name': 'Amazon Order',\n",
       "   'address_line1': '498 Centerpoint Blvd',\n",
       "   'address_line2': 'Hyun Jung Lee - KR0136608319',\n",
       "   'zip_code': '19720',\n",
       "   'city': 'New Castle',\n",
       "   'state': 'DE',\n",
       "   'country': 'US',\n",
       "   'phone_number': '3023228792'},\n",
       "  'client_notes': {'order_code': 'ASAXDU', 'retailer': 'amazon'},\n",
       "  'payment_method': {'name_on_card': 'Jason Kim',\n",
       "   'expiration_year': '2022',\n",
       "   'expiration_month': '4',\n",
       "   'use_gift': False},\n",
       "  'retailer': 'amazon',\n",
       "  'affiliate_info': {'tag': 'ohmyzip19-20'},\n",
       "  'products': [{'product_id': 'B07YTX2VLP',\n",
       "    'quantity': 1,\n",
       "    'seller_selection_criteria': {'buy_box': True},\n",
       "    'variants': []}],\n",
       "  'shipping_method': 'cheapest',\n",
       "  'billing_address': {'first_name': 'Jason M',\n",
       "   'last_name': 'Kim',\n",
       "   'address_line1': '21 WOODCREST CT',\n",
       "   'address_line2': 'NEWARK DE',\n",
       "   'zip_code': '19702',\n",
       "   'city': 'New castle',\n",
       "   'state': 'DE',\n",
       "   'country': 'US',\n",
       "   'phone_number': '7143807008'},\n",
       "  'retailer_credentials': {'email': 'join@ohmyzip.com'},\n",
       "  'webhooks': {'order_placed': 'https://www.ohmyzip.com/zinc/orderPlaced',\n",
       "   'order_failed': 'https://www.ohmyzip.com/zinc/orderFailed',\n",
       "   'tracking_obtained': 'https://www.ohmyzip.com/zinc/trackingObtained'},\n",
       "  'max_price': 999900,\n",
       "  'client_token': '08302263B276E420C6F32249'},\n",
       " {'idempotency_key': '4CFJ@MRN_SMG4q',\n",
       "  'shipping_address': {'first_name': 'WarpEx',\n",
       "   'last_name': 'Germany',\n",
       "   'address_line1': 'Hugo Junkers Str 7 (Geb 110 Tor 30)',\n",
       "   'address_line2': 'Warp Ex Lee sangmo - KR0195304204',\n",
       "   'zip_code': '60386',\n",
       "   'city': 'Frankfurt am Main',\n",
       "   'state': '',\n",
       "   'country': 'DE',\n",
       "   'phone_number': '+49 (0)69 3700 6635'},\n",
       "  'client_notes': {'order_code': 'A463PE', 'retailer': 'amazon_de'},\n",
       "  'payment_method': {'name_on_card': 'Jiyoung Park',\n",
       "   'expiration_year': '2021',\n",
       "   'expiration_month': '6'},\n",
       "  'retailer': 'amazon_de',\n",
       "  'affiliate_info': {'tag': 'ohmyzip19-20'},\n",
       "  'products': [{'product_id': 'B07FNQ7MLP',\n",
       "    'quantity': 3,\n",
       "    'seller_selection_criteria': {'buy_box': True},\n",
       "    'variants': []}],\n",
       "  'shipping_method': 'cheapest',\n",
       "  'billing_address': {'first_name': 'Dal Hwan',\n",
       "   'last_name': 'Seo',\n",
       "   'address_line1': 'IBP CORP Deutschland GmbH',\n",
       "   'address_line2': 'Hugo-Junkers Str. 7',\n",
       "   'zip_code': '60386',\n",
       "   'city': 'Frankfurt am main',\n",
       "   'state': '',\n",
       "   'country': 'Germany',\n",
       "   'phone_number': '069-3700-6635'},\n",
       "  'retailer_credentials': {'email': 'ohmyzip.germany@gmail.com',\n",
       "   'verification_code': '403394',\n",
       "   'verification_url': 'https://www.amazon.de/ap/cvf/request?arb=a56e51da-2a31-4b90-aa97-09062262983c'},\n",
       "  'webhooks': {'order_placed': 'https://www.ohmyzip.com/zinc/orderPlaced',\n",
       "   'order_failed': 'https://www.ohmyzip.com/zinc/orderFailed',\n",
       "   'tracking_obtained': 'https://www.ohmyzip.com/zinc/trackingObtained'},\n",
       "  'max_price': 999900,\n",
       "  'client_token': '08302263B276E420C6F32249'},\n",
       " {'idempotency_key': 'XOqDF_yPuYY7yg',\n",
       "  'shipping_address': {'first_name': 'WarpEx',\n",
       "   'last_name': 'Germany',\n",
       "   'address_line1': 'Hugo Junkers Str 7 (Geb 110 Tor 30)',\n",
       "   'address_line2': 'Warp Ex Kim Jee Hoon - KR0191678755',\n",
       "   'zip_code': '60386',\n",
       "   'city': 'Frankfurt am Main',\n",
       "   'state': '',\n",
       "   'country': 'DE',\n",
       "   'phone_number': '+49 (0)69 3700 6635'},\n",
       "  'client_notes': {'order_code': 'AE8MLY', 'retailer': 'amazon_de'},\n",
       "  'payment_method': {'name_on_card': 'Jiyoung Park',\n",
       "   'expiration_year': '2021',\n",
       "   'expiration_month': '6'},\n",
       "  'retailer': 'amazon_de',\n",
       "  'affiliate_info': {'tag': 'ohmyzip19-20'},\n",
       "  'products': [{'product_id': 'B01MUBNHQL',\n",
       "    'quantity': 1,\n",
       "    'seller_selection_criteria': {'buy_box': True},\n",
       "    'variants': []}],\n",
       "  'shipping_method': 'cheapest',\n",
       "  'billing_address': {'first_name': 'Dal Hwan',\n",
       "   'last_name': 'Seo',\n",
       "   'address_line1': 'IBP CORP Deutschland GmbH',\n",
       "   'address_line2': 'Hugo-Junkers Str. 7',\n",
       "   'zip_code': '60386',\n",
       "   'city': 'Frankfurt am main',\n",
       "   'state': '',\n",
       "   'country': 'Germany',\n",
       "   'phone_number': '069-3700-6635'},\n",
       "  'retailer_credentials': {'email': 'ohmyzip.germany@gmail.com',\n",
       "   'verification_code': '403394',\n",
       "   'verification_url': 'https://www.amazon.de/ap/cvf/request?arb=a56e51da-2a31-4b90-aa97-09062262983c'},\n",
       "  'webhooks': {'order_placed': 'https://www.ohmyzip.com/zinc/orderPlaced',\n",
       "   'order_failed': 'https://www.ohmyzip.com/zinc/orderFailed',\n",
       "   'tracking_obtained': 'https://www.ohmyzip.com/zinc/trackingObtained'},\n",
       "  'max_price': 999900,\n",
       "  'client_token': '08302263B276E420C6F32249'},\n",
       " {'idempotency_key': 'ZnvNObE94M_KRW',\n",
       "  'shipping_address': {'first_name': 'WarpEx',\n",
       "   'last_name': 'Germany',\n",
       "   'address_line1': 'Hugo Junkers Str 7 (Geb 110 Tor 30)',\n",
       "   'address_line2': 'Warp Ex Customer - GB0117946309',\n",
       "   'zip_code': '60386',\n",
       "   'city': 'Frankfurt am Main',\n",
       "   'state': '',\n",
       "   'country': 'DE',\n",
       "   'phone_number': '+49 (0)69 3700 6635'},\n",
       "  'client_notes': {'order_code': 'AIGO5F', 'retailer': 'amazon_de'},\n",
       "  'payment_method': {'name_on_card': 'Jiyoung Park',\n",
       "   'expiration_year': '2021',\n",
       "   'expiration_month': '6'},\n",
       "  'retailer': 'amazon_de',\n",
       "  'affiliate_info': {'tag': 'ohmyzip19-20'},\n",
       "  'products': [{'product_id': 'B06XPFYG3D',\n",
       "    'quantity': 1,\n",
       "    'seller_selection_criteria': {'buy_box': True},\n",
       "    'variants': []}],\n",
       "  'shipping_method': 'cheapest',\n",
       "  'billing_address': {'first_name': 'Dal Hwan',\n",
       "   'last_name': 'Seo',\n",
       "   'address_line1': 'IBP CORP Deutschland GmbH',\n",
       "   'address_line2': 'Hugo-Junkers Str. 7',\n",
       "   'zip_code': '60386',\n",
       "   'city': 'Frankfurt am main',\n",
       "   'state': '',\n",
       "   'country': 'Germany',\n",
       "   'phone_number': '069-3700-6635'},\n",
       "  'retailer_credentials': {'email': 'ohmyzip.germany@gmail.com',\n",
       "   'verification_code': '403394',\n",
       "   'verification_url': 'https://www.amazon.de/ap/cvf/request?arb=a56e51da-2a31-4b90-aa97-09062262983c'},\n",
       "  'webhooks': {'order_placed': 'https://www.ohmyzip.com/zinc/orderPlaced',\n",
       "   'order_failed': 'https://www.ohmyzip.com/zinc/orderFailed',\n",
       "   'tracking_obtained': 'https://www.ohmyzip.com/zinc/trackingObtained'},\n",
       "  'max_price': 999900,\n",
       "  'client_token': '08302263B276E420C6F32249'},\n",
       " {'idempotency_key': '6RlpP4osJFNllSV',\n",
       "  'shipping_address': {'first_name': 'WarpEx',\n",
       "   'last_name': 'Germany',\n",
       "   'address_line1': 'Hugo Junkers Str 7 (Geb 110 Tor 30)',\n",
       "   'address_line2': 'Warp Ex Jungwoo Moon - KR0114324504',\n",
       "   'zip_code': '60386',\n",
       "   'city': 'Frankfurt am Main',\n",
       "   'state': '',\n",
       "   'country': 'DE',\n",
       "   'phone_number': '+49 (0)69 3700 6635'},\n",
       "  'client_notes': {'order_code': 'AA95XS', 'retailer': 'amazon_de'},\n",
       "  'payment_method': {'name_on_card': 'Jiyoung Park',\n",
       "   'expiration_year': '2021',\n",
       "   'expiration_month': '6'},\n",
       "  'retailer': 'amazon_de',\n",
       "  'affiliate_info': {'tag': 'ohmyzip19-20'},\n",
       "  'products': [{'product_id': 'B077ZH6ZV8',\n",
       "    'quantity': 1,\n",
       "    'seller_selection_criteria': {'buy_box': True},\n",
       "    'variants': []}],\n",
       "  'shipping_method': 'cheapest',\n",
       "  'billing_address': {'first_name': 'Dal Hwan',\n",
       "   'last_name': 'Seo',\n",
       "   'address_line1': 'IBP CORP Deutschland GmbH',\n",
       "   'address_line2': 'Hugo-Junkers Str. 7',\n",
       "   'zip_code': '60386',\n",
       "   'city': 'Frankfurt am main',\n",
       "   'state': '',\n",
       "   'country': 'Germany',\n",
       "   'phone_number': '069-3700-6635'},\n",
       "  'retailer_credentials': {'email': 'ohmyzip.germany@gmail.com',\n",
       "   'verification_code': '403394',\n",
       "   'verification_url': 'https://www.amazon.de/ap/cvf/request?arb=a56e51da-2a31-4b90-aa97-09062262983c'},\n",
       "  'webhooks': {'order_placed': 'https://www.ohmyzip.com/zinc/orderPlaced',\n",
       "   'order_failed': 'https://www.ohmyzip.com/zinc/orderFailed',\n",
       "   'tracking_obtained': 'https://www.ohmyzip.com/zinc/trackingObtained'},\n",
       "  'max_price': 999900,\n",
       "  'client_token': '08302263B276E420C6F32249'},\n",
       " {'idempotency_key': 'Zr2zqnNJCM9UrT',\n",
       "  'shipping_address': {'first_name': 'Ohshop',\n",
       "   'last_name': 'Amazon Order',\n",
       "   'address_line1': '498 Centerpoint Blvd',\n",
       "   'address_line2': 'anyoungmin - KR0120327025',\n",
       "   'zip_code': '19720',\n",
       "   'city': 'New Castle',\n",
       "   'state': 'DE',\n",
       "   'country': 'US',\n",
       "   'phone_number': '3023228792'},\n",
       "  'client_notes': {'order_code': 'AZ62GS', 'retailer': 'amazon'},\n",
       "  'payment_method': {'name_on_card': 'Jason Kim',\n",
       "   'expiration_year': '2022',\n",
       "   'expiration_month': '4',\n",
       "   'use_gift': False},\n",
       "  'retailer': 'amazon',\n",
       "  'affiliate_info': {'tag': 'ohmyzip19-20'},\n",
       "  'products': [{'product_id': 'B07K39FRSL',\n",
       "    'quantity': 1,\n",
       "    'seller_selection_criteria': {'buy_box': True},\n",
       "    'variants': []}],\n",
       "  'shipping_method': 'cheapest',\n",
       "  'billing_address': {'first_name': 'Jason M',\n",
       "   'last_name': 'Kim',\n",
       "   'address_line1': '21 WOODCREST CT',\n",
       "   'address_line2': 'NEWARK DE',\n",
       "   'zip_code': '19702',\n",
       "   'city': 'New castle',\n",
       "   'state': 'DE',\n",
       "   'country': 'US',\n",
       "   'phone_number': '7143807008'},\n",
       "  'retailer_credentials': {'email': 'join@ohmyzip.com'},\n",
       "  'webhooks': {'order_placed': 'https://www.ohmyzip.com/zinc/orderPlaced',\n",
       "   'order_failed': 'https://www.ohmyzip.com/zinc/orderFailed',\n",
       "   'tracking_obtained': 'https://www.ohmyzip.com/zinc/trackingObtained'},\n",
       "  'max_price': 999900,\n",
       "  'client_token': '08302263B276E420C6F32249'},\n",
       " {'idempotency_key': 'f3lxnp6E!ABKnc',\n",
       "  'shipping_address': {'first_name': 'WarpEx',\n",
       "   'last_name': 'Germany',\n",
       "   'address_line1': 'Hugo Junkers Str 7 (Geb 110 Tor 30)',\n",
       "   'address_line2': 'Warp Ex Woon Korea1 - KR0170425552',\n",
       "   'zip_code': '60386',\n",
       "   'city': 'Frankfurt am Main',\n",
       "   'state': '',\n",
       "   'country': 'DE',\n",
       "   'phone_number': '+49 (0)69 3700 6635'},\n",
       "  'client_notes': {'order_code': 'AFYUG2', 'retailer': 'amazon_de'},\n",
       "  'payment_method': {'name_on_card': 'Jiyoung Park',\n",
       "   'expiration_year': '2021',\n",
       "   'expiration_month': '6'},\n",
       "  'retailer': 'amazon_de',\n",
       "  'affiliate_info': {'tag': 'ohmyzip19-20'},\n",
       "  'products': [{'product_id': 'B0002PSCQM',\n",
       "    'quantity': 1,\n",
       "    'seller_selection_criteria': {'buy_box': True},\n",
       "    'variants': []}],\n",
       "  'shipping_method': 'cheapest',\n",
       "  'billing_address': {'first_name': 'Dal Hwan',\n",
       "   'last_name': 'Seo',\n",
       "   'address_line1': 'IBP CORP Deutschland GmbH',\n",
       "   'address_line2': 'Hugo-Junkers Str. 7',\n",
       "   'zip_code': '60386',\n",
       "   'city': 'Frankfurt am main',\n",
       "   'state': '',\n",
       "   'country': 'Germany',\n",
       "   'phone_number': '069-3700-6635'},\n",
       "  'retailer_credentials': {'email': 'ohmyzip.germany@gmail.com',\n",
       "   'verification_code': '403394',\n",
       "   'verification_url': 'https://www.amazon.de/ap/cvf/request?arb=a56e51da-2a31-4b90-aa97-09062262983c'},\n",
       "  'webhooks': {'order_placed': 'https://www.ohmyzip.com/zinc/orderPlaced',\n",
       "   'order_failed': 'https://www.ohmyzip.com/zinc/orderFailed',\n",
       "   'tracking_obtained': 'https://www.ohmyzip.com/zinc/trackingObtained'},\n",
       "  'max_price': 999900,\n",
       "  'client_token': '08302263B276E420C6F32249'},\n",
       " {'idempotency_key': 'JhzFp36Qilg59I3',\n",
       "  'shipping_address': {'first_name': 'Ohshop',\n",
       "   'last_name': 'Amazon Order',\n",
       "   'address_line1': '498 Centerpoint Blvd',\n",
       "   'address_line2': 'Kim Yi Kwon - KR0169953022',\n",
       "   'zip_code': '19720',\n",
       "   'city': 'New Castle',\n",
       "   'state': 'DE',\n",
       "   'country': 'US',\n",
       "   'phone_number': '3023228792'},\n",
       "  'client_notes': {'order_code': 'A9CR3X', 'retailer': 'amazon'},\n",
       "  'payment_method': {'name_on_card': 'Jason Kim',\n",
       "   'expiration_year': '2022',\n",
       "   'expiration_month': '4',\n",
       "   'use_gift': False},\n",
       "  'retailer': 'amazon',\n",
       "  'affiliate_info': {'tag': 'ohmyzip19-20'},\n",
       "  'products': [{'product_id': 'B000XY9LT4',\n",
       "    'quantity': 2,\n",
       "    'seller_selection_criteria': {'buy_box': True},\n",
       "    'variants': []},\n",
       "   {'product_id': 'B0013L3XMM',\n",
       "    'quantity': 2,\n",
       "    'seller_selection_criteria': {'buy_box': True},\n",
       "    'variants': []},\n",
       "   {'product_id': 'B079QG5CDZ',\n",
       "    'quantity': 1,\n",
       "    'seller_selection_criteria': {'buy_box': True},\n",
       "    'variants': []}],\n",
       "  'shipping_method': 'cheapest',\n",
       "  'billing_address': {'first_name': 'Jason M',\n",
       "   'last_name': 'Kim',\n",
       "   'address_line1': '21 WOODCREST CT',\n",
       "   'address_line2': 'NEWARK DE',\n",
       "   'zip_code': '19702',\n",
       "   'city': 'New castle',\n",
       "   'state': 'DE',\n",
       "   'country': 'US',\n",
       "   'phone_number': '7143807008'},\n",
       "  'retailer_credentials': {'email': 'join@ohmyzip.com'},\n",
       "  'webhooks': {'order_placed': 'https://www.ohmyzip.com/zinc/orderPlaced',\n",
       "   'order_failed': 'https://www.ohmyzip.com/zinc/orderFailed',\n",
       "   'tracking_obtained': 'https://www.ohmyzip.com/zinc/trackingObtained'},\n",
       "  'max_price': 999900,\n",
       "  'client_token': '08302263B276E420C6F32249'},\n",
       " {'idempotency_key': 'ERp@bErK4!zwC5g',\n",
       "  'shipping_address': {'first_name': 'WarpEx',\n",
       "   'last_name': 'Germany',\n",
       "   'address_line1': 'Hugo Junkers Str 7 (Geb 110 Tor 30)',\n",
       "   'address_line2': 'Warp Ex Lee sangmo - KR0195304204',\n",
       "   'zip_code': '60386',\n",
       "   'city': 'Frankfurt am Main',\n",
       "   'state': '',\n",
       "   'country': 'DE',\n",
       "   'phone_number': '+49 (0)69 3700 6635'},\n",
       "  'client_notes': {'order_code': 'AXH68L', 'retailer': 'amazon_de'},\n",
       "  'payment_method': {'name_on_card': 'Jiyoung Park',\n",
       "   'expiration_year': '2021',\n",
       "   'expiration_month': '6'},\n",
       "  'retailer': 'amazon_de',\n",
       "  'affiliate_info': {'tag': 'ohmyzip19-20'},\n",
       "  'products': [{'product_id': 'B00JEXZBEY',\n",
       "    'quantity': 2,\n",
       "    'seller_selection_criteria': {'buy_box': True},\n",
       "    'variants': []}],\n",
       "  'shipping_method': 'cheapest',\n",
       "  'billing_address': {'first_name': 'Dal Hwan',\n",
       "   'last_name': 'Seo',\n",
       "   'address_line1': 'IBP CORP Deutschland GmbH',\n",
       "   'address_line2': 'Hugo-Junkers Str. 7',\n",
       "   'zip_code': '60386',\n",
       "   'city': 'Frankfurt am main',\n",
       "   'state': '',\n",
       "   'country': 'Germany',\n",
       "   'phone_number': '069-3700-6635'},\n",
       "  'retailer_credentials': {'email': 'ohmyzip.germany@gmail.com',\n",
       "   'verification_code': '403394',\n",
       "   'verification_url': 'https://www.amazon.de/ap/cvf/request?arb=a56e51da-2a31-4b90-aa97-09062262983c'},\n",
       "  'webhooks': {'order_placed': 'https://www.ohmyzip.com/zinc/orderPlaced',\n",
       "   'order_failed': 'https://www.ohmyzip.com/zinc/orderFailed',\n",
       "   'tracking_obtained': 'https://www.ohmyzip.com/zinc/trackingObtained'},\n",
       "  'max_price': 999900,\n",
       "  'client_token': '08302263B276E420C6F32249'}]"
      ]
     },
     "execution_count": 69,
     "metadata": {},
     "output_type": "execute_result"
    }
   ],
   "source": [
    "orders_dict_list"
   ]
  },
  {
   "cell_type": "code",
   "execution_count": 70,
   "metadata": {
    "ExecuteTime": {
     "end_time": "2020-05-02T19:50:46.833309Z",
     "start_time": "2020-05-02T19:50:46.763885Z"
    }
   },
   "outputs": [],
   "source": [
    "us_df = pd.DataFrame(filtered_orders)"
   ]
  },
  {
   "cell_type": "code",
   "execution_count": 76,
   "metadata": {
    "ExecuteTime": {
     "end_time": "2020-05-02T19:52:21.997371Z",
     "start_time": "2020-05-02T19:52:21.957261Z"
    }
   },
   "outputs": [
    {
     "name": "stdout",
     "output_type": "stream",
     "text": [
      "[{'product_id': 'B07CMKX3C7', 'quantity': 2, 'seller_selection_criteria': {'buy_box': True}, 'variants': []}]\n",
      "[{'product_id': 'B07YTX2VLP', 'quantity': 1, 'seller_selection_criteria': {'buy_box': True}, 'variants': []}]\n",
      "[{'product_id': 'B07K39FRSL', 'quantity': 1, 'seller_selection_criteria': {'buy_box': True}, 'variants': []}]\n",
      "[{'product_id': 'B000XY9LT4', 'quantity': 2, 'seller_selection_criteria': {'buy_box': True}, 'variants': []}, {'product_id': 'B0013L3XMM', 'quantity': 2, 'seller_selection_criteria': {'buy_box': True}, 'variants': []}, {'product_id': 'B079QG5CDZ', 'quantity': 1, 'seller_selection_criteria': {'buy_box': True}, 'variants': []}]\n"
     ]
    }
   ],
   "source": [
    "for ind,row in us_df.iterrows():\n",
    "    print(row['products'])"
   ]
  },
  {
   "cell_type": "code",
   "execution_count": 74,
   "metadata": {
    "ExecuteTime": {
     "end_time": "2020-05-02T19:51:31.166075Z",
     "start_time": "2020-05-02T19:51:31.126214Z"
    }
   },
   "outputs": [
    {
     "data": {
      "text/plain": [
       "[{'product_id': 'B07CMKX3C7',\n",
       "  'quantity': 2,\n",
       "  'seller_selection_criteria': {'buy_box': True},\n",
       "  'variants': []}]"
      ]
     },
     "execution_count": 74,
     "metadata": {},
     "output_type": "execute_result"
    }
   ],
   "source": [
    "us_df.iloc[0]['products']"
   ]
  }
 ],
 "metadata": {
  "kernelspec": {
   "display_name": "Python 3",
   "language": "python",
   "name": "python3"
  },
  "language_info": {
   "codemirror_mode": {
    "name": "ipython",
    "version": 3
   },
   "file_extension": ".py",
   "mimetype": "text/x-python",
   "name": "python",
   "nbconvert_exporter": "python",
   "pygments_lexer": "ipython3",
   "version": "3.7.5"
  }
 },
 "nbformat": 4,
 "nbformat_minor": 1
}
